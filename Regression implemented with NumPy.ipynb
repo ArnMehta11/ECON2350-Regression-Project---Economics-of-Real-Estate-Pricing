{
 "cells": [
  {
   "cell_type": "markdown",
   "id": "a082b9ba-7a30-405e-9706-67362e3e194c",
   "metadata": {},
   "source": [
    "### Regression implemented only using Numpy"
   ]
  },
  {
   "cell_type": "code",
   "execution_count": 9,
   "id": "185a76fa-e1fe-4091-9a0e-717f654b42eb",
   "metadata": {},
   "outputs": [],
   "source": [
    "# import neccessary libraries\n",
    "import numpy as np\n",
    "import pandas as pd"
   ]
  },
  {
   "cell_type": "code",
   "execution_count": 11,
   "id": "27a2b56c-5e21-4ee1-8d9d-1877588aa4c4",
   "metadata": {},
   "outputs": [],
   "source": [
    "# Load data and reshape for numpy execution\n",
    "df = pd.read_excel(\"ArlHome5.xlsx\")\n",
    "df.columns = [c.strip().lower() for c in df.columns]\n",
    "\n",
    "y = df[\"price\"].to_numpy().reshape(-1, 1)\n",
    "sqft = df[\"sqft\"].to_numpy().reshape(-1, 1)\n",
    "beds = df[\"beds\"].to_numpy().reshape(-1, 1)\n",
    "baths = df[\"baths\"].to_numpy().reshape(-1, 1)"
   ]
  },
  {
   "cell_type": "code",
   "execution_count": 13,
   "id": "29725791-27f8-486a-b12e-078837cd86d2",
   "metadata": {},
   "outputs": [],
   "source": [
    "# Create the add_const function to calculate the constant\n",
    "def add_const(*cols):\n",
    "    \"\"\"Stack a constant column with the provided columns.\"\"\"\n",
    "    X = np.hstack(cols)\n",
    "    const = np.ones((X.shape[0], 1))\n",
    "    return np.hstack([const, X])"
   ]
  },
  {
   "cell_type": "code",
   "execution_count": 17,
   "id": "14ed0644-84d1-4676-9f28-ccd35ff61717",
   "metadata": {},
   "outputs": [],
   "source": [
    "# Create the ols_np function to execute regression\n",
    "def ols_np(X, y):\n",
    "    \"\"\"Return dict with OLS results computed via NumPy only.\"\"\"\n",
    "    n, p1 = X.shape          # p1 includes the intercept\n",
    "    k = p1 - 1               # number of predictors (excl. intercept)\n",
    "    # Beta = (X'X)^(-1) X' y\n",
    "    XtX = X.T @ X\n",
    "    XtX_inv = np.linalg.inv(XtX)\n",
    "    beta = XtX_inv @ X.T @ y          # (p1 x 1)\n",
    "    yhat = X @ beta                    # (n x 1)\n",
    "    resid = y - yhat\n",
    "    sse = float((resid.T @ resid))     # sum of squared errors\n",
    "    sst = float(((y - y.mean()).T @ (y - y.mean())))\n",
    "    mse = sse / (n - k - 1)            # residual mean squared error\n",
    "    ser = np.sqrt(mse)                 # Standard Error of the Regression (Root MSE)\n",
    "    r2 = 1 - sse/sst\n",
    "    adj_r2 = 1 - (1 - r2) * (n - 1) / (n - k - 1)"
   ]
  },
  {
   "cell_type": "code",
   "execution_count": 19,
   "id": "5147cb0d-26f0-426d-8458-f303eab18b68",
   "metadata": {},
   "outputs": [],
   "source": [
    "# Set up regression\n",
    "def pretty_eq(beta, names):\n",
    "    \"\"\"beta: (p x 1), names includes 'const' then predictors\"\"\"\n",
    "    b = beta.flatten()\n",
    "    terms = [f\"{b[0]:,.2f}\"]\n",
    "    for coef, nm in zip(b[1:], names[1:]):\n",
    "        terms.append(f\"{coef:,.2f}·{nm}\")\n",
    "    return \" + \".join(terms)"
   ]
  },
  {
   "cell_type": "code",
   "execution_count": 23,
   "id": "ca4c9618-fdf3-4f52-a9c8-fbe3f945982d",
   "metadata": {},
   "outputs": [
    {
     "name": "stdout",
     "output_type": "stream",
     "text": [
      "Model 1 (const, sqft):  Price = 143,819.06 + 198.49·sqft\n",
      "Model 2 (const, sqft, beds):  Price = 116,241.29 + 183.77·sqft + 17,632.92·beds\n",
      "Model 3 (const, sqft, baths): Price = 132,770.88 + 118.30·sqft + 82,899.16·baths\n",
      "Model 4 (const, sqft, beds, baths): Price = 111,454.76 + 107.67·sqft + 13,699.54·beds + 82,074.78·baths\n"
     ]
    }
   ],
   "source": [
    "# Display model results\n",
    "print(\"Model 1 (const, sqft):  Price =\", pretty_eq(m1[\"beta\"], [\"const\",\"sqft\"]))\n",
    "print(\"Model 2 (const, sqft, beds):  Price =\", pretty_eq(m2[\"beta\"], [\"const\",\"sqft\",\"beds\"]))\n",
    "print(\"Model 3 (const, sqft, baths): Price =\", pretty_eq(m3[\"beta\"], [\"const\",\"sqft\",\"baths\"]))\n",
    "print(\"Model 4 (const, sqft, beds, baths): Price =\", pretty_eq(m4[\"beta\"], [\"const\",\"sqft\",\"beds\",\"baths\"]))"
   ]
  },
  {
   "cell_type": "code",
   "execution_count": 25,
   "id": "51c0b959-127f-4826-84e0-7ce70279ea0c",
   "metadata": {},
   "outputs": [
    {
     "name": "stdout",
     "output_type": "stream",
     "text": [
      "\n",
      "Standard Error (SER) and Adjusted R^2\n",
      "  Model          SER   Adj_R2\n",
      "Model 1 89842.116759 0.704630\n",
      "Model 2 90562.377921 0.699875\n",
      "Model 3 79359.431617 0.769536\n",
      "Model 4 80147.139288 0.764938\n"
     ]
    }
   ],
   "source": [
    "# Metrics\n",
    "summary = pd.DataFrame({\n",
    "    \"Model\":   [\"Model 1\",\"Model 2\",\"Model 3\",\"Model 4\"],\n",
    "    \"SER\":     [m1[\"SER\"], m2[\"SER\"], m3[\"SER\"], m4[\"SER\"]],\n",
    "    \"Adj_R2\":  [m1[\"adj_R2\"], m2[\"adj_R2\"], m3[\"adj_R2\"], m4[\"adj_R2\"]],\n",
    "})\n",
    "print(\"\\nStandard Error (SER) and Adjusted R^2\")\n",
    "print(summary.to_string(index=False))"
   ]
  },
  {
   "cell_type": "code",
   "execution_count": 27,
   "id": "36d81c28-738c-4ce8-b61d-60f5a0f0f6f5",
   "metadata": {},
   "outputs": [
    {
     "name": "stdout",
     "output_type": "stream",
     "text": [
      "\n",
      "Prediction (Model 1): $540,795.32\n",
      "Prediction (Model 4): $532,035.81\n"
     ]
    },
    {
     "name": "stderr",
     "output_type": "stream",
     "text": [
      "C:\\Users\\aparnamehta\\AppData\\Local\\Temp\\ipykernel_30080\\3246764926.py:4: DeprecationWarning: Conversion of an array with ndim > 0 to a scalar is deprecated, and will error in future. Ensure you extract a single element from your array before performing this operation. (Deprecated NumPy 1.25.)\n",
      "  pred_m1 = float(new @ m1[\"beta\"])\n",
      "C:\\Users\\aparnamehta\\AppData\\Local\\Temp\\ipykernel_30080\\3246764926.py:7: DeprecationWarning: Conversion of an array with ndim > 0 to a scalar is deprecated, and will error in future. Ensure you extract a single element from your array before performing this operation. (Deprecated NumPy 1.25.)\n",
      "  pred_m4 = float(new4 @ m4[\"beta\"])\n"
     ]
    }
   ],
   "source": [
    "# Predict a 2000 sq ft, 3 bed, 2 bath house with Models 1 and 4\n",
    "new = np.array([[1, 2000],                  # for Model 1 (const, sqft)\n",
    "               ])\n",
    "pred_m1 = float(new @ m1[\"beta\"])\n",
    "\n",
    "new4 = np.array([[1, 2000, 3, 2]])          # for Model 4 (const, sqft, beds, baths)\n",
    "pred_m4 = float(new4 @ m4[\"beta\"])\n",
    "\n",
    "print(f\"\\nPrediction (Model 1): ${pred_m1:,.2f}\")\n",
    "print(f\"Prediction (Model 4): ${pred_m4:,.2f}\")"
   ]
  }
 ],
 "metadata": {
  "kernelspec": {
   "display_name": "Python 3 (ipykernel)",
   "language": "python",
   "name": "python3"
  },
  "language_info": {
   "codemirror_mode": {
    "name": "ipython",
    "version": 3
   },
   "file_extension": ".py",
   "mimetype": "text/x-python",
   "name": "python",
   "nbconvert_exporter": "python",
   "pygments_lexer": "ipython3",
   "version": "3.12.7"
  }
 },
 "nbformat": 4,
 "nbformat_minor": 5
}
