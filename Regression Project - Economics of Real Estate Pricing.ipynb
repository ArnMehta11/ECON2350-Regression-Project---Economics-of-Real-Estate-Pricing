{
 "cells": [
  {
   "cell_type": "markdown",
   "id": "a5147d61-1a72-4331-8a37-55deff2c0997",
   "metadata": {},
   "source": [
    "### ECON 2350: Regression Project - Economics of Real Estate Pricing\n",
    "##### Arnav Mehta | 08/19/2025"
   ]
  },
  {
   "cell_type": "code",
   "execution_count": 2,
   "id": "1eb76c46-2978-4615-9816-2339d55591d1",
   "metadata": {},
   "outputs": [],
   "source": [
    "# Import neccessary libraries\n",
    "import pandas as pd\n",
    "import statsmodels.api as sm"
   ]
  },
  {
   "cell_type": "markdown",
   "id": "16617b56-aa51-419c-856e-4924596149be",
   "metadata": {},
   "source": [
    "##### Step 1: Load the dataset \"ArlHome5.xlsx\""
   ]
  },
  {
   "cell_type": "code",
   "execution_count": 4,
   "id": "268ea757-f10a-4245-afc9-1e5fc9561cdf",
   "metadata": {},
   "outputs": [],
   "source": [
    "# Use pandas (pd) read function to load the dataset\n",
    "df = pd.read_excel(\"ArlHome5.xlsx\") # For this set of code, if you use jupyter notebook as the IDE, ensure the file is in the same directory\n",
    "df.columns = [col.strip().lower() for col in df.columns] "
   ]
  },
  {
   "cell_type": "code",
   "execution_count": 5,
   "id": "0343732d-5322-4cd8-98e8-4bd34582311a",
   "metadata": {},
   "outputs": [
    {
     "name": "stdout",
     "output_type": "stream",
     "text": [
      "First 5 rows of the dataset:\n"
     ]
    },
    {
     "data": {
      "text/html": [
       "<div>\n",
       "<style scoped>\n",
       "    .dataframe tbody tr th:only-of-type {\n",
       "        vertical-align: middle;\n",
       "    }\n",
       "\n",
       "    .dataframe tbody tr th {\n",
       "        vertical-align: top;\n",
       "    }\n",
       "\n",
       "    .dataframe thead th {\n",
       "        text-align: right;\n",
       "    }\n",
       "</style>\n",
       "<table border=\"1\" class=\"dataframe\">\n",
       "  <thead>\n",
       "    <tr style=\"text-align: right;\">\n",
       "      <th></th>\n",
       "      <th>price</th>\n",
       "      <th>sqft</th>\n",
       "      <th>beds</th>\n",
       "      <th>baths</th>\n",
       "    </tr>\n",
       "  </thead>\n",
       "  <tbody>\n",
       "    <tr>\n",
       "      <th>0</th>\n",
       "      <td>728000</td>\n",
       "      <td>2399</td>\n",
       "      <td>4</td>\n",
       "      <td>2.5</td>\n",
       "    </tr>\n",
       "    <tr>\n",
       "      <th>1</th>\n",
       "      <td>569077</td>\n",
       "      <td>1731</td>\n",
       "      <td>3</td>\n",
       "      <td>1.5</td>\n",
       "    </tr>\n",
       "    <tr>\n",
       "      <th>2</th>\n",
       "      <td>831833</td>\n",
       "      <td>2800</td>\n",
       "      <td>4</td>\n",
       "      <td>3.0</td>\n",
       "    </tr>\n",
       "    <tr>\n",
       "      <th>3</th>\n",
       "      <td>689000</td>\n",
       "      <td>2200</td>\n",
       "      <td>3</td>\n",
       "      <td>2.5</td>\n",
       "    </tr>\n",
       "    <tr>\n",
       "      <th>4</th>\n",
       "      <td>685000</td>\n",
       "      <td>2716</td>\n",
       "      <td>3</td>\n",
       "      <td>3.5</td>\n",
       "    </tr>\n",
       "  </tbody>\n",
       "</table>\n",
       "</div>"
      ],
      "text/plain": [
       "    price  sqft  beds  baths\n",
       "0  728000  2399     4    2.5\n",
       "1  569077  1731     3    1.5\n",
       "2  831833  2800     4    3.0\n",
       "3  689000  2200     3    2.5\n",
       "4  685000  2716     3    3.5"
      ]
     },
     "metadata": {},
     "output_type": "display_data"
    }
   ],
   "source": [
    "print(\"First 5 rows of the dataset:\")\n",
    "display(df.head())"
   ]
  },
  {
   "cell_type": "markdown",
   "id": "29239ef5-81d0-4f29-a975-0915e229ec19",
   "metadata": {},
   "source": [
    "##### Step 2: Exploratory Analysis"
   ]
  },
  {
   "cell_type": "code",
   "execution_count": 7,
   "id": "53ff6e59-26a2-41eb-876c-6a6c1fd3445f",
   "metadata": {},
   "outputs": [
    {
     "name": "stdout",
     "output_type": "stream",
     "text": [
      "Descriptive Statistics:\n"
     ]
    },
    {
     "data": {
      "text/html": [
       "<div>\n",
       "<style scoped>\n",
       "    .dataframe tbody tr th:only-of-type {\n",
       "        vertical-align: middle;\n",
       "    }\n",
       "\n",
       "    .dataframe tbody tr th {\n",
       "        vertical-align: top;\n",
       "    }\n",
       "\n",
       "    .dataframe thead th {\n",
       "        text-align: right;\n",
       "    }\n",
       "</style>\n",
       "<table border=\"1\" class=\"dataframe\">\n",
       "  <thead>\n",
       "    <tr style=\"text-align: right;\">\n",
       "      <th></th>\n",
       "      <th>price</th>\n",
       "      <th>sqft</th>\n",
       "      <th>beds</th>\n",
       "      <th>baths</th>\n",
       "    </tr>\n",
       "  </thead>\n",
       "  <tbody>\n",
       "    <tr>\n",
       "      <th>count</th>\n",
       "      <td>36.000000</td>\n",
       "      <td>36.000000</td>\n",
       "      <td>36.000000</td>\n",
       "      <td>36.000000</td>\n",
       "    </tr>\n",
       "    <tr>\n",
       "      <th>mean</th>\n",
       "      <td>538270.111111</td>\n",
       "      <td>1987.277778</td>\n",
       "      <td>3.222222</td>\n",
       "      <td>2.055556</td>\n",
       "    </tr>\n",
       "    <tr>\n",
       "      <th>std</th>\n",
       "      <td>165309.213916</td>\n",
       "      <td>703.280298</td>\n",
       "      <td>0.831904</td>\n",
       "      <td>0.860048</td>\n",
       "    </tr>\n",
       "    <tr>\n",
       "      <th>min</th>\n",
       "      <td>247500.000000</td>\n",
       "      <td>850.000000</td>\n",
       "      <td>1.000000</td>\n",
       "      <td>1.000000</td>\n",
       "    </tr>\n",
       "    <tr>\n",
       "      <th>25%</th>\n",
       "      <td>413625.000000</td>\n",
       "      <td>1567.500000</td>\n",
       "      <td>3.000000</td>\n",
       "      <td>1.500000</td>\n",
       "    </tr>\n",
       "    <tr>\n",
       "      <th>50%</th>\n",
       "      <td>537375.000000</td>\n",
       "      <td>1921.500000</td>\n",
       "      <td>3.000000</td>\n",
       "      <td>2.000000</td>\n",
       "    </tr>\n",
       "    <tr>\n",
       "      <th>75%</th>\n",
       "      <td>651100.000000</td>\n",
       "      <td>2403.750000</td>\n",
       "      <td>4.000000</td>\n",
       "      <td>3.000000</td>\n",
       "    </tr>\n",
       "    <tr>\n",
       "      <th>max</th>\n",
       "      <td>838500.000000</td>\n",
       "      <td>3964.000000</td>\n",
       "      <td>5.000000</td>\n",
       "      <td>3.500000</td>\n",
       "    </tr>\n",
       "  </tbody>\n",
       "</table>\n",
       "</div>"
      ],
      "text/plain": [
       "               price         sqft       beds      baths\n",
       "count      36.000000    36.000000  36.000000  36.000000\n",
       "mean   538270.111111  1987.277778   3.222222   2.055556\n",
       "std    165309.213916   703.280298   0.831904   0.860048\n",
       "min    247500.000000   850.000000   1.000000   1.000000\n",
       "25%    413625.000000  1567.500000   3.000000   1.500000\n",
       "50%    537375.000000  1921.500000   3.000000   2.000000\n",
       "75%    651100.000000  2403.750000   4.000000   3.000000\n",
       "max    838500.000000  3964.000000   5.000000   3.500000"
      ]
     },
     "metadata": {},
     "output_type": "display_data"
    }
   ],
   "source": [
    "print(\"Descriptive Statistics:\")\n",
    "display(df.describe())\n"
   ]
  },
  {
   "cell_type": "markdown",
   "id": "fdf105a6-57d3-492a-b4ad-a3a35be00ad4",
   "metadata": {},
   "source": [
    "##### Step 3: Define helper function for regression"
   ]
  },
  {
   "cell_type": "code",
   "execution_count": 9,
   "id": "771e33af-9847-4a60-b01f-08dea3002ff6",
   "metadata": {},
   "outputs": [],
   "source": [
    "# use statsmodels.api's run_regression function to define the helper function\n",
    "def run_regression(y, X):\n",
    "    X = sm.add_constant(X)  # add intercept\n",
    "    model = sm.OLS(y, X).fit()\n",
    "    return model"
   ]
  },
  {
   "cell_type": "markdown",
   "id": "604c22e2-36a3-415a-868f-6ffa8313b8b4",
   "metadata": {},
   "source": [
    "##### Step 4: Build out the four models"
   ]
  },
  {
   "cell_type": "code",
   "execution_count": 11,
   "id": "b0e94350-faba-4f9c-bec4-04835f14f695",
   "metadata": {},
   "outputs": [],
   "source": [
    "#Set the y value\n",
    "y = df[\"price\"]"
   ]
  },
  {
   "cell_type": "markdown",
   "id": "e059b650-3caf-4331-9643-1753ebc2d443",
   "metadata": {},
   "source": [
    "###### Model 1: Affect of SqFt on Price"
   ]
  },
  {
   "cell_type": "code",
   "execution_count": 44,
   "id": "3017ccd8-485b-4c32-8d98-cf2e82ff5847",
   "metadata": {},
   "outputs": [
    {
     "name": "stdout",
     "output_type": "stream",
     "text": [
      "Model 1 Summary\n",
      "                            OLS Regression Results                            \n",
      "==============================================================================\n",
      "Dep. Variable:                  price   R-squared:                       0.713\n",
      "Model:                            OLS   Adj. R-squared:                  0.705\n",
      "Method:                 Least Squares   F-statistic:                     84.50\n",
      "Date:                Wed, 20 Aug 2025   Prob (F-statistic):           9.64e-11\n",
      "Time:                        08:17:15   Log-Likelihood:                -460.66\n",
      "No. Observations:                  36   AIC:                             925.3\n",
      "Df Residuals:                      34   BIC:                             928.5\n",
      "Df Model:                           1                                         \n",
      "Covariance Type:            nonrobust                                         \n",
      "==============================================================================\n",
      "                 coef    std err          t      P>|t|      [0.025      0.975]\n",
      "------------------------------------------------------------------------------\n",
      "const       1.438e+05   4.54e+04      3.164      0.003    5.15e+04    2.36e+05\n",
      "sqft         198.4881     21.593      9.192      0.000     154.605     242.371\n",
      "==============================================================================\n",
      "Omnibus:                        4.739   Durbin-Watson:                   1.753\n",
      "Prob(Omnibus):                  0.094   Jarque-Bera (JB):                3.627\n",
      "Skew:                          -0.764   Prob(JB):                        0.163\n",
      "Kurtosis:                       3.290   Cond. No.                     6.39e+03\n",
      "==============================================================================\n",
      "\n",
      "Notes:\n",
      "[1] Standard Errors assume that the covariance matrix of the errors is correctly specified.\n",
      "[2] The condition number is large, 6.39e+03. This might indicate that there are\n",
      "strong multicollinearity or other numerical problems.\n"
     ]
    }
   ],
   "source": [
    "# Model 1: Price ~ SqFt\n",
    "model1 = run_regression(y, df[[\"sqft\"]])\n",
    "\n",
    "# Display regression result\n",
    "print(\"Model 1 Summary\")\n",
    "print(model1.summary())"
   ]
  },
  {
   "cell_type": "code",
   "execution_count": 34,
   "id": "5046e85f-edbf-4005-af1d-74451aa66b1a",
   "metadata": {},
   "outputs": [
    {
     "data": {
      "text/plain": [
       "89842.11675944798"
      ]
     },
     "execution_count": 34,
     "metadata": {},
     "output_type": "execute_result"
    }
   ],
   "source": [
    "# Standard Error calculated by taking the root of the Mean Squared Error\n",
    "model1.mse_resid ** 0.5"
   ]
  },
  {
   "cell_type": "markdown",
   "id": "c662c0d8-6198-4b09-a831-acd5034b3077",
   "metadata": {},
   "source": [
    "###### Model 2: Affect of SqFt + Beds on Price"
   ]
  },
  {
   "cell_type": "code",
   "execution_count": 15,
   "id": "0f4f9096-8c11-460d-8e32-71a5f34621ea",
   "metadata": {},
   "outputs": [
    {
     "name": "stdout",
     "output_type": "stream",
     "text": [
      "Model 2 Summary\n",
      "                            OLS Regression Results                            \n",
      "==============================================================================\n",
      "Dep. Variable:                  price   R-squared:                       0.717\n",
      "Model:                            OLS   Adj. R-squared:                  0.700\n",
      "Method:                 Least Squares   F-statistic:                     41.81\n",
      "Date:                Tue, 19 Aug 2025   Prob (F-statistic):           8.99e-10\n",
      "Time:                        16:12:00   Log-Likelihood:                -460.41\n",
      "No. Observations:                  36   AIC:                             926.8\n",
      "Df Residuals:                      33   BIC:                             931.6\n",
      "Df Model:                           2                                         \n",
      "Covariance Type:            nonrobust                                         \n",
      "==============================================================================\n",
      "                 coef    std err          t      P>|t|      [0.025      0.975]\n",
      "------------------------------------------------------------------------------\n",
      "const       1.162e+05   6.12e+04      1.899      0.066   -8304.274    2.41e+05\n",
      "sqft         183.7748     30.709      5.984      0.000     121.297     246.252\n",
      "beds        1.763e+04    2.6e+04      0.679      0.502   -3.52e+04    7.05e+04\n",
      "==============================================================================\n",
      "Omnibus:                        6.791   Durbin-Watson:                   1.758\n",
      "Prob(Omnibus):                  0.034   Jarque-Bera (JB):                5.401\n",
      "Skew:                          -0.892   Prob(JB):                       0.0672\n",
      "Kurtosis:                       3.646   Cond. No.                     8.90e+03\n",
      "==============================================================================\n",
      "\n",
      "Notes:\n",
      "[1] Standard Errors assume that the covariance matrix of the errors is correctly specified.\n",
      "[2] The condition number is large, 8.9e+03. This might indicate that there are\n",
      "strong multicollinearity or other numerical problems.\n"
     ]
    }
   ],
   "source": [
    "# Model 2: Price ~ SqFt + Beds\n",
    "model2 = run_regression(y, df[[\"sqft\", \"beds\"]])\n",
    "\n",
    "# Display regression results\n",
    "print(\"Model 2 Summary\")\n",
    "print(model2.summary())"
   ]
  },
  {
   "cell_type": "code",
   "execution_count": 36,
   "id": "55c8024e-e0ba-4a47-b20c-bbf1d63d60bd",
   "metadata": {},
   "outputs": [
    {
     "data": {
      "text/plain": [
       "90562.3779213671"
      ]
     },
     "execution_count": 36,
     "metadata": {},
     "output_type": "execute_result"
    }
   ],
   "source": [
    "# Standard Error\n",
    "model2.mse_resid ** 0.5"
   ]
  },
  {
   "cell_type": "markdown",
   "id": "2cb8bdde-1bb9-4533-87de-2a92644e52bf",
   "metadata": {},
   "source": [
    "##### Model 3: Affect of SqfT + Baths on Price"
   ]
  },
  {
   "cell_type": "code",
   "execution_count": 17,
   "id": "5fe4b8bd-5655-4ff1-abe6-1224059be575",
   "metadata": {},
   "outputs": [
    {
     "name": "stdout",
     "output_type": "stream",
     "text": [
      "Model 3 Summary\n",
      "                            OLS Regression Results                            \n",
      "==============================================================================\n",
      "Dep. Variable:                  price   R-squared:                       0.783\n",
      "Model:                            OLS   Adj. R-squared:                  0.770\n",
      "Method:                 Least Squares   F-statistic:                     59.43\n",
      "Date:                Tue, 19 Aug 2025   Prob (F-statistic):           1.15e-11\n",
      "Time:                        16:12:00   Log-Likelihood:                -455.66\n",
      "No. Observations:                  36   AIC:                             917.3\n",
      "Df Residuals:                      33   BIC:                             922.1\n",
      "Df Model:                           2                                         \n",
      "Covariance Type:            nonrobust                                         \n",
      "==============================================================================\n",
      "                 coef    std err          t      P>|t|      [0.025      0.975]\n",
      "------------------------------------------------------------------------------\n",
      "const       1.328e+05   4.03e+04      3.295      0.002    5.08e+04    2.15e+05\n",
      "sqft         118.3002     31.174      3.795      0.001      54.876     181.725\n",
      "baths        8.29e+04   2.55e+04      3.252      0.003     3.1e+04    1.35e+05\n",
      "==============================================================================\n",
      "Omnibus:                        4.110   Durbin-Watson:                   1.595\n",
      "Prob(Omnibus):                  0.128   Jarque-Bera (JB):                1.679\n",
      "Skew:                           0.012   Prob(JB):                        0.432\n",
      "Kurtosis:                       1.942   Cond. No.                     6.43e+03\n",
      "==============================================================================\n",
      "\n",
      "Notes:\n",
      "[1] Standard Errors assume that the covariance matrix of the errors is correctly specified.\n",
      "[2] The condition number is large, 6.43e+03. This might indicate that there are\n",
      "strong multicollinearity or other numerical problems.\n"
     ]
    }
   ],
   "source": [
    "# Model 3: Price ~ SqFt + Baths\n",
    "model3 = run_regression(y, df[[\"sqft\", \"baths\"]])\n",
    "\n",
    "# Display regression results\n",
    "print(\"Model 3 Summary\")\n",
    "print(model3.summary())"
   ]
  },
  {
   "cell_type": "code",
   "execution_count": 38,
   "id": "80023416-a8c4-443b-93be-6a15fd3be950",
   "metadata": {},
   "outputs": [
    {
     "data": {
      "text/plain": [
       "79359.43161736199"
      ]
     },
     "execution_count": 38,
     "metadata": {},
     "output_type": "execute_result"
    }
   ],
   "source": [
    "# Standard Error\n",
    "model3.mse_resid ** 0.5"
   ]
  },
  {
   "cell_type": "markdown",
   "id": "376643f0-c000-43f8-a357-dcc4e87be5b3",
   "metadata": {},
   "source": [
    "###### Model 4: Affect of Sqft + Beds + Baths"
   ]
  },
  {
   "cell_type": "code",
   "execution_count": 19,
   "id": "5e9921ff-b5a2-4a8a-9152-eaf66abc3b7a",
   "metadata": {},
   "outputs": [
    {
     "name": "stdout",
     "output_type": "stream",
     "text": [
      "Model 4 Summary\n",
      "                            OLS Regression Results                            \n",
      "==============================================================================\n",
      "Dep. Variable:                  price   R-squared:                       0.785\n",
      "Model:                            OLS   Adj. R-squared:                  0.765\n",
      "Method:                 Least Squares   F-statistic:                     38.97\n",
      "Date:                Tue, 19 Aug 2025   Prob (F-statistic):           8.54e-11\n",
      "Time:                        16:12:00   Log-Likelihood:                -455.46\n",
      "No. Observations:                  36   AIC:                             918.9\n",
      "Df Residuals:                      32   BIC:                             925.3\n",
      "Df Model:                           3                                         \n",
      "Covariance Type:            nonrobust                                         \n",
      "==============================================================================\n",
      "                 coef    std err          t      P>|t|      [0.025      0.975]\n",
      "------------------------------------------------------------------------------\n",
      "const       1.115e+05   5.42e+04      2.056      0.048    1059.222    2.22e+05\n",
      "sqft         107.6664     36.196      2.975      0.006      33.937     181.396\n",
      "beds         1.37e+04    2.3e+04      0.595      0.556   -3.32e+04    6.06e+04\n",
      "baths       8.207e+04   2.58e+04      3.183      0.003    2.96e+04    1.35e+05\n",
      "==============================================================================\n",
      "Omnibus:                        4.768   Durbin-Watson:                   1.590\n",
      "Prob(Omnibus):                  0.092   Jarque-Bera (JB):                1.801\n",
      "Skew:                           0.000   Prob(JB):                        0.406\n",
      "Kurtosis:                       1.904   Cond. No.                     8.90e+03\n",
      "==============================================================================\n",
      "\n",
      "Notes:\n",
      "[1] Standard Errors assume that the covariance matrix of the errors is correctly specified.\n",
      "[2] The condition number is large, 8.9e+03. This might indicate that there are\n",
      "strong multicollinearity or other numerical problems.\n"
     ]
    }
   ],
   "source": [
    "# Model 4: Price ~ SqFt + Beds + Baths\n",
    "model4 = run_regression(y, df[[\"sqft\", \"beds\", \"baths\"]])\n",
    "\n",
    "# Display regression results\n",
    "print(\"Model 4 Summary\")\n",
    "print(model4.summary())"
   ]
  },
  {
   "cell_type": "code",
   "execution_count": 42,
   "id": "122a6337-81b8-4408-97c1-52e800fb4ec5",
   "metadata": {},
   "outputs": [
    {
     "data": {
      "text/plain": [
       "80147.13928829394"
      ]
     },
     "execution_count": 42,
     "metadata": {},
     "output_type": "execute_result"
    }
   ],
   "source": [
    "# Standard Error\n",
    "model4.mse_resid ** 0.5"
   ]
  },
  {
   "cell_type": "markdown",
   "id": "301b9d17-d25b-4490-a316-365178ab70dd",
   "metadata": {},
   "source": [
    "##### Step 6: Predictions for 2000 sq ft, 3 bed, 2 bath "
   ]
  },
  {
   "cell_type": "code",
   "execution_count": 21,
   "id": "25693acf-38cf-4e2d-a947-24de39ef9a19",
   "metadata": {},
   "outputs": [
    {
     "name": "stdout",
     "output_type": "stream",
     "text": [
      "\n",
      "Predicted Price (Model 1): 540795.32\n",
      "Predicted Price (Model 4): 532035.81\n"
     ]
    }
   ],
   "source": [
    "# Set variables\n",
    "new_house = pd.DataFrame({\n",
    "    \"sqft\": [2000],\n",
    "    \"beds\": [3],\n",
    "    \"baths\": [2]\n",
    "})\n",
    "\n",
    "# For Model 1 (only sqft)\n",
    "X1 = sm.add_constant(new_house[[\"sqft\"]], has_constant=\"add\")\n",
    "pred1 = model1.predict(X1)\n",
    "\n",
    "# For Model 4 (sqft + beds + baths)\n",
    "X4 = sm.add_constant(new_house[[\"sqft\", \"beds\", \"baths\"]], has_constant=\"add\")\n",
    "pred4 = model4.predict(X4)\n",
    "\n",
    "print(\"\\nPredicted Price (Model 1):\", round(pred1[0], 2))\n",
    "print(\"Predicted Price (Model 4):\", round(pred4[0], 2))\n"
   ]
  }
 ],
 "metadata": {
  "kernelspec": {
   "display_name": "Python 3 (ipykernel)",
   "language": "python",
   "name": "python3"
  },
  "language_info": {
   "codemirror_mode": {
    "name": "ipython",
    "version": 3
   },
   "file_extension": ".py",
   "mimetype": "text/x-python",
   "name": "python",
   "nbconvert_exporter": "python",
   "pygments_lexer": "ipython3",
   "version": "3.12.7"
  }
 },
 "nbformat": 4,
 "nbformat_minor": 5
}
